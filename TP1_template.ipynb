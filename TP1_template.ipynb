{
 "cells": [
  {
   "cell_type": "code",
   "execution_count": null,
   "metadata": {
    "execution": {
     "iopub.execute_input": "2025-04-22T15:40:16.126731Z",
     "iopub.status.busy": "2025-04-22T15:40:16.126521Z",
     "iopub.status.idle": "2025-04-22T15:40:16.214172Z",
     "shell.execute_reply": "2025-04-22T15:40:16.213801Z",
     "shell.execute_reply.started": "2025-04-22T15:40:16.126715Z"
    }
   },
   "outputs": [],
   "source": [
    "# Para no tener que reiniciar el kernel de jupyter cuando se hacen cambios en el archivo .py\n",
    "%load_ext autoreload\n",
    "%autoreload 2"
   ]
  },
  {
   "cell_type": "code",
   "execution_count": null,
   "metadata": {
    "execution": {
     "iopub.execute_input": "2025-04-22T15:40:35.574548Z",
     "iopub.status.busy": "2025-04-22T15:40:35.574268Z",
     "iopub.status.idle": "2025-04-22T15:40:35.588496Z",
     "shell.execute_reply": "2025-04-22T15:40:35.588136Z",
     "shell.execute_reply.started": "2025-04-22T15:40:35.574534Z"
    }
   },
   "outputs": [],
   "source": [
    "# Carga de paquetes necesarios para graficar\n",
    "import numpy as np\n",
    "import matplotlib.pyplot as plt\n",
    "import pandas as pd # Para leer archivos\n",
    "import geopandas as gpd # Para hacer cosas geográficas\n",
    "import seaborn as sns # Para hacer plots lindos\n",
    "import networkx as nx # Construcción de la red en NetworkX\n",
    "import scipy\n",
    "from template_funciones import *"
   ]
  },
  {
   "cell_type": "markdown",
   "metadata": {},
   "source": [
    "# Preambulo\n",
    "\n",
    "En esta sección cargamos los datos y los visualizamos. También construimos la matriz de adyacencia de la red de museos."
   ]
  },
  {
   "cell_type": "markdown",
   "metadata": {},
   "source": [
    "## Carga de datos de los museos\n",
    "\n",
    "El listado de los museos, con el que se construye el [mapa](https://mapas.museosabiertos.org/museos/caba/), lo podemos encontrar [acá](https://github.com/MuseosAbiertos/Leaflet-museums-OpenStreetMap/blob/principal/data/export.geojson?short_path=bc357f3). También descargamos los barrios de CABA como complemento para los gráficos."
   ]
  },
  {
   "cell_type": "code",
   "execution_count": null,
   "metadata": {
    "execution": {
     "iopub.execute_input": "2025-04-22T15:40:36.188655Z",
     "iopub.status.busy": "2025-04-22T15:40:36.188408Z",
     "iopub.status.idle": "2025-04-22T15:40:36.488480Z",
     "shell.execute_reply": "2025-04-22T15:40:36.488106Z",
     "shell.execute_reply.started": "2025-04-22T15:40:36.188638Z"
    }
   },
   "outputs": [],
   "source": [
    "# Leemos el archivo, retenemos aquellos museos que están en CABA, y descartamos aquellos que no tienen latitud y longitud\n",
    "museos = gpd.read_file('https://raw.githubusercontent.com/MuseosAbiertos/Leaflet-museums-OpenStreetMap/refs/heads/principal/data/export.geojson')\n",
    "barrios = gpd.read_file('https://cdn.buenosaires.gob.ar/datosabiertos/datasets/ministerio-de-educacion/barrios/barrios.geojson')"
   ]
  },
  {
   "cell_type": "markdown",
   "metadata": {},
   "source": [
    "## Visualización"
   ]
  },
  {
   "cell_type": "code",
   "execution_count": null,
   "metadata": {
    "execution": {
     "iopub.execute_input": "2025-04-22T15:40:36.533514Z",
     "iopub.status.busy": "2025-04-22T15:40:36.533131Z",
     "iopub.status.idle": "2025-04-22T15:40:36.701197Z",
     "shell.execute_reply": "2025-04-22T15:40:36.700635Z",
     "shell.execute_reply.started": "2025-04-22T15:40:36.533489Z"
    }
   },
   "outputs": [],
   "source": [
    "# Armamos el gráfico para visualizar los museos\n",
    "fig, ax = plt.subplots(figsize=(10, 10))\n",
    "barrios.boundary.plot(color='gray',ax=ax)\n",
    "museos.plot(ax=ax)"
   ]
  },
  {
   "cell_type": "markdown",
   "metadata": {},
   "source": [
    "## Cálculo de la matriz de distancias\n",
    "\n",
    "Ahora construimos la matriz de distancias entre todos los museos. Como la tierra es un [geoide](https://es.wikipedia.org/wiki/Geoide) (es decir que no es [plana](https://es.wikipedia.org/wiki/Terraplanismo)), el cálculo de distancias no es una operación obvia. Una opción es proyectar a un [sistema de coordenadas local](https://geopandas.org/en/stable/docs/user_guide/projections.html), de forma tal que las distancias euclideas se correspondan con las distancias en metros. En este notebook usamos [EPSG](https://en.wikipedia.org/wiki/EPSG_Geodetic_Parameter_Dataset) 22184. "
   ]
  },
  {
   "cell_type": "code",
   "execution_count": null,
   "metadata": {
    "execution": {
     "iopub.execute_input": "2025-04-22T15:40:36.860497Z",
     "iopub.status.busy": "2025-04-22T15:40:36.860114Z",
     "iopub.status.idle": "2025-04-22T15:40:36.958868Z",
     "shell.execute_reply": "2025-04-22T15:40:36.958533Z",
     "shell.execute_reply.started": "2025-04-22T15:40:36.860482Z"
    }
   },
   "outputs": [],
   "source": [
    "# En esta línea:\n",
    "# Tomamos museos, lo convertimos al sistema de coordenadas de interés, extraemos su geometría (los puntos del mapa), \n",
    "# calculamos sus distancias a los otros puntos de df, redondeamos (obteniendo distancia en metros), y lo convertimos a un array 2D de numpy\n",
    "D = museos.to_crs(\"EPSG:22184\").geometry.apply(lambda g: museos.to_crs(\"EPSG:22184\").distance(g)).round().to_numpy()"
   ]
  },
  {
   "cell_type": "markdown",
   "metadata": {},
   "source": [
    "### Matriz de adyacencia: construimos una matriz conectando a cada museo con los $m$ más cercanos"
   ]
  },
  {
   "cell_type": "code",
   "execution_count": null,
   "metadata": {
    "execution": {
     "iopub.execute_input": "2025-04-22T15:40:37.180245Z",
     "iopub.status.busy": "2025-04-22T15:40:37.180073Z",
     "iopub.status.idle": "2025-04-22T15:40:37.195304Z",
     "shell.execute_reply": "2025-04-22T15:40:37.194943Z",
     "shell.execute_reply.started": "2025-04-22T15:40:37.180233Z"
    }
   },
   "outputs": [],
   "source": [
    "m = 3 # Cantidad de links por nodo\n",
    "A = construye_adyacencia(D,m)"
   ]
  },
  {
   "cell_type": "markdown",
   "metadata": {},
   "source": [
    "## Construcción de la red en NetworkX (sólo para las visualizaciones)"
   ]
  },
  {
   "cell_type": "code",
   "execution_count": null,
   "metadata": {
    "execution": {
     "iopub.execute_input": "2025-04-22T15:40:37.832330Z",
     "iopub.status.busy": "2025-04-22T15:40:37.832101Z",
     "iopub.status.idle": "2025-04-22T15:40:37.851014Z",
     "shell.execute_reply": "2025-04-22T15:40:37.850555Z",
     "shell.execute_reply.started": "2025-04-22T15:40:37.832308Z"
    }
   },
   "outputs": [],
   "source": [
    "G = nx.from_numpy_array(A) # Construimos la red a partir de la matriz de adyacencia\n",
    "# Construimos un layout a partir de las coordenadas geográficas\n",
    "G_layout = {i:v for i,v in enumerate(zip(museos.to_crs(\"EPSG:22184\").get_coordinates()['x'],museos.to_crs(\"EPSG:22184\").get_coordinates()['y']))}"
   ]
  },
  {
   "cell_type": "code",
   "execution_count": null,
   "metadata": {
    "execution": {
     "iopub.execute_input": "2025-04-22T15:40:37.868398Z",
     "iopub.status.busy": "2025-04-22T15:40:37.868028Z",
     "iopub.status.idle": "2025-04-22T15:40:38.154259Z",
     "shell.execute_reply": "2025-04-22T15:40:38.153787Z",
     "shell.execute_reply.started": "2025-04-22T15:40:37.868384Z"
    }
   },
   "outputs": [],
   "source": [
    "fig, ax = plt.subplots(figsize=(15, 15)) # Visualización de la red en el mapa\n",
    "barrios.to_crs(\"EPSG:22184\").boundary.plot(color='gray',ax=ax) # Graficamos Los barrios\n",
    "nx.draw_networkx(G,G_layout,ax=ax) # Graficamos los museos"
   ]
  },
  {
   "cell_type": "markdown",
   "metadata": {},
   "source": [
    "# Resolución del TP\n",
    "\n",
    "Aquí empieza la aventura... ¡diviertanse y consulten lo que necesiten!"
   ]
  },
  {
   "cell_type": "markdown",
   "metadata": {},
   "source": [
    "## Punto 1:"
   ]
  },
  {
   "cell_type": "markdown",
   "metadata": {},
   "source": [
    "Partiendo de la definicion de p\n",
    "$$\n",
    "p = (1-\\alpha)Cp + \\frac{\\alpha}{N}\\textbf{1} \\\\\n",
    "p - (1-\\alpha)Cp = \\frac{\\alpha}{N}\\textbf{1} \\\\\n",
    "(I + (1-\\alpha)C)p = \\frac{\\alpha}{N}\\textbf{1}\\\\\n",
    "\\frac{N}{\\alpha}(I + (1-\\alpha)C)p = \\textbf{1}\\\\\n",
    "Mp = \\textbf{1} = b\\\\\n",
    "$$\n",
    "Se llega al sistema. Por lo tanto $p$ es solucion del sistema por su definicion.\n",
    "\n",
    "$\\square$"
   ]
  },
  {
   "cell_type": "markdown",
   "metadata": {},
   "source": [
    "## Punto 2:\n"
   ]
  },
  {
   "cell_type": "markdown",
   "metadata": {},
   "source": [
    "Para que la ecuación del punto anterior tenga una única solucion, la matriz $M$ debe ser invertible. Para que $M$ sea invertible su determinante debe ser distinto de 0, es decir $ \\text{det}(M) \\neq 0 $\n",
    "\n",
    "Usamos la  propiedad del determinante: $\\text{det}(kA)=k^n \\cdot \\text{det}(A)$ donde $k$ es un escalar y $n$ es la dimensión de la matriz.\n",
    "\n",
    "Por lo tanto:\n",
    "\n",
    "$$ \\text{det}(M) = \\text{det}(\\frac{N}{\\alpha}(I-(1-\\alpha)C))=(\\frac{N}{\\alpha})^N \\text{det}(I-(1-\\alpha)C) $$\n",
    "\n",
    "$\\frac{N}{\\alpha}$ es un escalar positivo, ya que $N > 0$ y $0 < \\alpha < 1$, $\\text{det}(M) \\neq 0$ si y sólo si $\\text{det}(I - (1-\\alpha)C)\\neq 0$.\n",
    "\n",
    "Probar que el determinante no es nulo es equivalente a probar si la matriz es inversible, así que ahora vamos a probar si la matriz $I - (1-\\alpha)C$ es inversible. \n",
    "\n",
    "Sabemos que $C$ es una matriz estocástica por columnas, por lo que $||C||_1 = 1$ y ya que $0 < \\alpha <1$ entonces $0 < (1 - \\alpha) < 1$. Llamo $\\beta$ a $1-\\alpha$.\n",
    "\n",
    "Con esto podemos decir que $0 < ||\\beta C||_1 < 1$ ya que $||\\beta C||_1 = |\\beta|·||C||_1$ y $|\\beta| = \\beta$ porque $\\beta > 0$.\n",
    "  \n",
    "Ahora vamos a probar que la matriz $I - \\beta C$ es inversible debido a que $||\\beta C||_1 < 1$.\n",
    "\n",
    "Si no fuera inversible, existiría un vector no nulo $x$ tal que: \n",
    "\n",
    "$$ (I - \\beta C)x = 0 \\implies x - (\\beta C)x = 0 \\implies x = (\\beta C)x \\implies ||x||_1 = ||(\\beta C)x||_1 $$\n",
    "\n",
    "Por la propiedad submultiplicativa de las normas matriciales:\n",
    "\n",
    "$$ ||(\\beta C)x||_1 \\leq ||x||_1 · ||(\\beta C)||_1 $$\n",
    "\n",
    "y ya que $||x||_1 = ||(\\beta C)x||_1$ entonces:\n",
    "\n",
    "$$ ||x||_1 \\leq ||x||_1 · ||(\\beta C)||_1 \\implies 1 \\leq ||(\\beta C)||_1 $$\n",
    "\n",
    "Lo cual es un absurdo ya que partimos de la hipótesis de que $||(\\beta C)||_1 < 1$.\n",
    "\n",
    "Por lo que $(I - \\beta C)$ debe ser inversible lo que implica que $\\text{det}(I - (1-\\alpha)C)\\neq 0$.\n",
    "\n",
    "$\\square$"
   ]
  },
  {
   "cell_type": "markdown",
   "metadata": {},
   "source": [
    "## Punto 3:"
   ]
  },
  {
   "cell_type": "markdown",
   "metadata": {},
   "source": [
    "##### Funciones auxiliares\n",
    "\n",
    "Para calcular los ranks, primero queremos hacer una función para calcular la matriz de grados $K$.\n",
    "\n",
    "La función $\\texttt{construir\\_matriz\\_grado}$ toma como parametro de entrada la matriz de adyacencias $A$ que construimos a partir de leer los datos de los museos y calculando sus distancias y retorna la matriz de grados $K$ donde\n",
    "\n",
    "$$ K_{ij} = \\begin{cases} \n",
    "\\sum^{N}_{h=1} A_{ih}, \\qquad i=j \\\\\n",
    "0, \\qquad \\qquad \\quad i\\neq j\n",
    "\\end{cases} $$\n",
    "\n",
    "Luego, necesitamos la inversa $K^{-1}$, esto lo podemos obtener calculando la solución el sistema triangular $(K|I)$. \n",
    "\n",
    "Creamos la función $\\texttt{inversa\\_de\\_triangular}$ toma como entrada una matriz triangular $M$ y resuelve el sistema $(M|I)$ para encontrar la inversa $M^{-1}$\n",
    "\n",
    "La función $\\texttt{calcula\\_matriz\\_C}$ toma la matriz $A$, calcula $K$ y retorna $C = A^T K^{-1}$."
   ]
  },
  {
   "cell_type": "markdown",
   "metadata": {},
   "source": [
    "##### Cálculo de Page Ranks\n",
    "\n",
    "La solución al sistema $M\\textbf{p}=\\textbf{b}$ con $\\textbf{b} = \\textbf{1}$ será la matriz de puntajes.\n",
    "\n",
    "Para resolver el sistema creamos la función $\\texttt{calcula\\_pagerank}$ toma una matriz de transiciones $C$, construye la matriz $M=\\frac{N}{\\alpha}(I-(1-\\alpha)C)$ y retorna la solución al sistema $M\\textbf{p}=\\textbf{b}$ con $\\textbf{b} = \\textbf{1}$ utilizando descomposición LU."
   ]
  },
  {
   "cell_type": "markdown",
   "metadata": {},
   "source": [
    "### 3.a "
   ]
  },
  {
   "cell_type": "markdown",
   "metadata": {},
   "source": [
    "Construimos la red conectando a cada museo con sus $m = 3$ vecino más cercanos y procedemos a graficar la red asignando un tamaño proporcional a cada nodo según su Page Rank, para ello utilizamos la función calcular_puntajes definida anteriormente. "
   ]
  },
  {
   "cell_type": "code",
   "execution_count": null,
   "metadata": {
    "execution": {
     "iopub.execute_input": "2025-04-22T15:40:38.434056Z",
     "iopub.status.busy": "2025-04-22T15:40:38.433502Z",
     "iopub.status.idle": "2025-04-22T15:40:38.786406Z",
     "shell.execute_reply": "2025-04-22T15:40:38.786093Z",
     "shell.execute_reply.started": "2025-04-22T15:40:38.434027Z"
    }
   },
   "outputs": [],
   "source": [
    "\n",
    "Nprincipales = 5 # Cantidad de principales\n",
    "m = 3 # Cantidad de vecinos mas cercanos\n",
    "d = 1/5 # factor de dumping\n",
    "pr = calcular_p(D, m, d)\n",
    "\n",
    "# identificar museos mas centrales\n",
    "principales = np.argsort(pr)[-3:]\n",
    "print(principales)"
   ]
  },
  {
   "cell_type": "code",
   "execution_count": null,
   "metadata": {
    "execution": {
     "iopub.execute_input": "2025-04-22T15:40:38.787056Z",
     "iopub.status.busy": "2025-04-22T15:40:38.786924Z",
     "iopub.status.idle": "2025-04-22T15:40:38.981556Z",
     "shell.execute_reply": "2025-04-22T15:40:38.981121Z",
     "shell.execute_reply.started": "2025-04-22T15:40:38.787044Z"
    }
   },
   "outputs": [],
   "source": [
    "graficar_red_p(pr, A, m, d, museos, barrios, Nprincipales=3)"
   ]
  },
  {
   "cell_type": "markdown",
   "metadata": {},
   "source": []
  },
  {
   "cell_type": "markdown",
   "metadata": {},
   "source": [
    "### 3.b) m = 1, 3, 5, 10 y usando α = 1/5\n",
    "TODO: RESPONDER\n",
    "\n",
    "¿Son estables las posiciones en el ranking? Describa los distintos patrones que observa,\n",
    "identificando que ubicaciones son relevantes encada caso. \n",
    "¿Hay museos que solo son relevantes en redes con pocas conexiones?\n",
    "¿O museos que se vuelven mas relevantes mientras mas conexiones aparecen?\n",
    "\n",
    "¿Que regiones se vuelven mas predominantes al aumentar α? ¿Y al aumentar m?"
   ]
  },
  {
   "cell_type": "code",
   "execution_count": null,
   "metadata": {
    "execution": {
     "iopub.execute_input": "2025-04-22T15:40:40.012074Z",
     "iopub.status.busy": "2025-04-22T15:40:40.011845Z",
     "iopub.status.idle": "2025-04-22T15:40:41.336296Z",
     "shell.execute_reply": "2025-04-22T15:40:41.335877Z",
     "shell.execute_reply.started": "2025-04-22T15:40:40.012059Z"
    }
   },
   "outputs": [],
   "source": [
    "ms = [1, 3, 5, 10] \n",
    "d = 1/5\n",
    "ps = [] # Lista de scores page rank para cada m y d\n",
    "for m in ms:\n",
    "    pr = calcular_p(D, m, d)\n",
    "    ps.append(pr)"
   ]
  },
  {
   "cell_type": "code",
   "execution_count": null,
   "metadata": {
    "execution": {
     "iopub.execute_input": "2025-04-22T15:40:41.352188Z",
     "iopub.status.busy": "2025-04-22T15:40:41.352054Z",
     "iopub.status.idle": "2025-04-22T15:40:41.438559Z",
     "shell.execute_reply": "2025-04-22T15:40:41.438189Z",
     "shell.execute_reply.started": "2025-04-22T15:40:41.352176Z"
    }
   },
   "outputs": [],
   "source": [
    "# TODO: Agregar los axis, labels de cada museo. Hacer lo mismo para el C.\n",
    "def graficar_museos_principales_por_M(ps, ms, d):\n",
    "    # Grafica como cambia el ranking de los 3 principales museos para distintos valores de M.\n",
    "    tres_principales_cada_m = []\n",
    "    for i, p in enumerate(ps):\n",
    "        principales = np.argsort(p)[-3:]\n",
    "        tres_principales_cada_m.append(principales)\n",
    "\n",
    "\n",
    "    tres_principales_cada_m = np.array(list(set(np.hstack(tres_principales_cada_m)))) # Eliminar duplicados con set\n",
    "    for X in tres_principales_cada_m:\n",
    "        print(museos.loc[X, 'name'])\n",
    "    print(tres_principales_cada_m)\n",
    "\n",
    "    ranking = []\n",
    "    for i, p in enumerate(ps):\n",
    "        ranking.append(ps[i][tres_principales_cada_m])\n",
    "    plt.plot(ms, ranking)\n",
    "\n",
    "graficar_museos_principales_por_M(ps, ms, d)"
   ]
  },
  {
   "cell_type": "code",
   "execution_count": null,
   "metadata": {
    "execution": {
     "iopub.execute_input": "2025-04-22T15:40:41.439315Z",
     "iopub.status.busy": "2025-04-22T15:40:41.439187Z",
     "iopub.status.idle": "2025-04-22T15:40:41.870267Z",
     "shell.execute_reply": "2025-04-22T15:40:41.869695Z",
     "shell.execute_reply.started": "2025-04-22T15:40:41.439302Z"
    }
   },
   "outputs": [],
   "source": [
    "# Mapas para cada par m, d\n",
    "for i, p in enumerate(ps):\n",
    "    graficar_red_p(p, A, ms[i], d, museos, barrios, Nprincipales=3)\n",
    "    "
   ]
  },
  {
   "cell_type": "markdown",
   "metadata": {},
   "source": [
    "### 3.c) m = 5 y α = 6/7, 4/5, 2/3, 1/2, 1/3, 1/5, 1/7"
   ]
  },
  {
   "cell_type": "code",
   "execution_count": null,
   "metadata": {
    "execution": {
     "iopub.execute_input": "2025-04-22T15:40:42.132233Z",
     "iopub.status.busy": "2025-04-22T15:40:42.132042Z",
     "iopub.status.idle": "2025-04-22T15:40:44.509495Z",
     "shell.execute_reply": "2025-04-22T15:40:44.509189Z",
     "shell.execute_reply.started": "2025-04-22T15:40:42.132218Z"
    }
   },
   "outputs": [],
   "source": [
    "m = 5\n",
    "ds = [6/7, 4/5, 2/3, 1/2, 1/3, 1/5, 1/7]\n",
    "ps = []\n",
    "for d in ds:\n",
    "    pr = calcular_p(D, m, d)\n",
    "    principales = np.argsort(pr)[-10:]\n",
    "    ps.append(pr[principales])\n",
    "    # pr = calcular_p(D, m, d)\n",
    "    # # identificar museos mas centrales\n",
    "    # principales = np.argsort(pr)[-3:]\n",
    "    # print(principales)\n",
    "    # graficar_red_p(pr, A, m, d, museos, barrios, Nprincipales=3)\n",
    "\n",
    "plt.plot(ds, ps)"
   ]
  },
  {
   "cell_type": "markdown",
   "metadata": {},
   "source": [
    "## Punto 4:"
   ]
  },
  {
   "cell_type": "markdown",
   "metadata": {},
   "source": [
    "Supongamos que cada persona que ingresa a la red de museos realiza exactamente $r$ visitas antes de abandonar la misma. Sean:\n",
    "\n",
    "- $\\textbf{v} \\in \\mathbb{R}^N$ el vector que indica la cantidad de personas que ingresaron por primera vez a cada museo, es decir la primera visita.\n",
    "- $\\textbf{w} \\in \\mathbb{R}^N$ el vector que contiene el número total de visitas que recibió cada museo, contando todas las visitas en los $r$ pasos de cada visitante.\n",
    "- $C \\in \\mathbb{R}^{N \\times N}$ la matriz de transición de la red de museos.\n",
    "\n",
    "Sabiendo que luego de $k$ pasos, la distribución de visitantes es $C^k \\textbf{v}$, la cantidad total de visitas que recibió cada museo luego de $r$ pasos es la suma de todas las visitas recibidas en los $r-1$ pasos anteriores, es decir\n",
    "\n",
    "$$ \\textbf{w} = \\underbrace{\\textbf{v}}_{\\text{1er visita}} + \\underbrace{C\\textbf{v}}_{\\text{2da visita}} + \\underbrace{C^2\\textbf{v}}_{\\text{3ra visita}} + \\cdots + \\underbrace{C^{r-1}\\textbf{v}}_{r-1\\text{-ésima visita}} $$\n",
    "\n",
    "Luego, sacando a $\\textbf{v}$ como factor común tenemos $$ \\textbf{w} = (I + C + C^2 + \\cdots + C^{r-1}) \\textbf{v} $$\n",
    "\n",
    "$$ \\textbf{w} = \\left( \\sum_{k=0}^{r-1} C^k \\right) \\textbf{v} $$\n",
    "\n",
    "llamamos $B = \\sum_{k=0}^{r-1} C^k$, de este modo nos queda\n",
    "\n",
    "$$ \\textbf{w} = B\\textbf{v} $$\n",
    "\n",
    "Si asumimos que $B$ es inversible, podemos despejar $\\textbf{v}$ como\n",
    "\n",
    "$$ \\textbf{v} = B^{-1}\\textbf{w} $$\n",
    "\n",
    "Que es lo que queríamos probar.\n",
    "\n",
    "$\\square$"
   ]
  },
  {
   "cell_type": "markdown",
   "metadata": {},
   "source": [
    "## Punto 5:"
   ]
  },
  {
   "cell_type": "markdown",
   "metadata": {},
   "source": [
    "Nos piden calcular la cantidad total de visitantes que entraron en la red, es decir $||v||_1$,  utilizando la ecuación del punto 4.\n",
    "\n",
    "$$ \\textbf{v} = B^{-1} \\textbf{w} $$\n",
    "\n",
    "Para esto, creamos la función $\\texttt{calcula\\_matriz\\_C\\_continua}$ que recibe la matriz de distancias $D$ y calcula $C$ donde\n",
    "\n",
    "$$ C_{ij}= \\frac{f(d_{ij})}{\\sum^{N}_{k=1,k\\neq i}f(d_{ik})} $$\n",
    "\n",
    "y la función $\\texttt{calcula\\_B}$ que toma la matriz $C$ y el número de pasos $r$ y retorna la matriz $B$ donde $$B = \\sum^{r-1}_{k=0} C^k$$\n",
    "\n",
    "FInalmente construimos una función $\\texttt{calcular\\_norma\\_v}$ que recibe como parametros el vector $\\textbf{w}$ y la matriz de adyacencias $A$ para encontrar $\\textbf{v}$ y retornar su norma."
   ]
  },
  {
   "cell_type": "code",
   "execution_count": null,
   "metadata": {
    "execution": {
     "iopub.execute_input": "2025-04-22T16:07:26.971262Z",
     "iopub.status.busy": "2025-04-22T16:07:26.971034Z",
     "iopub.status.idle": "2025-04-22T16:07:27.306488Z",
     "shell.execute_reply": "2025-04-22T16:07:27.306179Z",
     "shell.execute_reply.started": "2025-04-22T16:07:26.971244Z"
    }
   },
   "outputs": [],
   "source": [
    "# Construimos el vector w con los datos de visitas.txt\n",
    "w = np.loadtxt(\"visitas.txt\")\n",
    "# Definimos la cantidad de visitas\n",
    "r = 3\n",
    "\n",
    "def calcular_norma_v(A, w):\n",
    "    # Función para calcular la norma del vector v, es decir la cantidad total de visitantes que ingresaron a la red\n",
    "    # A: Matriz de adyacencia\n",
    "    # w: vector con el número total de visitantes por museo\n",
    "    # Retorna: la norma del vector v\n",
    "\n",
    "    C = calcula_matriz_C_continua(A)\n",
    "    B = calcula_B(C, r)\n",
    "    L, U = calculaLU(B) # Calculamos descomposición LU a partir de B\n",
    "\n",
    "    Uv = scipy.linalg.solve_triangular(L,w,lower=True) # Primera inversión usando L\n",
    "    v = scipy.linalg.solve_triangular(U,Uv) # Segunda inversión usando U\n",
    "\n",
    "    return np.linalg.norm(v, ord=1)\n",
    "\n",
    "print(\"La cantidad total de visitantes que entraron a la red es \",calcular_norma_v(D, w))\n"
   ]
  },
  {
   "cell_type": "markdown",
   "metadata": {},
   "source": [
    "## Punto 6:"
   ]
  },
  {
   "cell_type": "markdown",
   "metadata": {},
   "source": [
    "Supongamos que el número total de visitantes por museo $w$ tiene un error del $5\\%$. Queremos poder estimar de qué manera se propaga este error en la estimación del vector $v$ de visitantes iniciales.\n",
    "\n",
    "Si llamamos $\\overline{v}$ y $\\overline{w}$ a los valores reales, podemos acotar el error de estimación de la siguiente manera\n",
    "\n",
    "$$ \\frac{||v-\\overline{v}||_1}{||v||_1} \\leq \\text{cond}_1 (B) \\frac{||w-\\overline{w}||_1}{||w||_1}$$\n",
    "\n",
    "En este caso como el error de $w$ es del $5\\%$, entonces\n",
    "\n",
    "$$ \\frac{||v-\\overline{v}||_1}{||v||_1} \\leq 0.05 $$"
   ]
  },
  {
   "cell_type": "code",
   "execution_count": null,
   "metadata": {
    "execution": {
     "iopub.execute_input": "2025-04-22T16:14:05.619125Z",
     "iopub.status.busy": "2025-04-22T16:14:05.618880Z",
     "iopub.status.idle": "2025-04-22T16:14:05.712250Z",
     "shell.execute_reply": "2025-04-22T16:14:05.710073Z",
     "shell.execute_reply.started": "2025-04-22T16:14:05.619110Z"
    }
   },
   "outputs": [],
   "source": [
    "# Calculamos la matriz B\n",
    "C = calcula_matriz_C_continua(D)\n",
    "B = calcula_B(C, 3)\n",
    "\n",
    "# Calculamos el numero de condición de B\n",
    "cond = np.linalg.cond(B,1)\n",
    "\n",
    "print(\"Cond1(B): \", cond)\n",
    "print(\"Cota: \", cond * 0.05)"
   ]
  },
  {
   "cell_type": "markdown",
   "metadata": {},
   "source": [
    "# Extras\n",
    "\n",
    "Para graficar la red con un conjunto de puntajes (como el Page Rank)"
   ]
  },
  {
   "cell_type": "code",
   "execution_count": null,
   "metadata": {},
   "outputs": [],
   "source": [
    "factor_escala = 1e4 # Escalamos los nodos 10 mil veces para que sean bien visibles\n",
    "fig, ax = plt.subplots(figsize=(10, 10)) # Visualización de la red en el mapa\n",
    "barrios.to_crs(\"EPSG:22184\").boundary.plot(color='gray',ax=ax) # Graficamos Los barrios\n",
    "pr = np.random.uniform(0,1,museos.shape[0])# Este va a ser su score Page Rank. Ahora lo reemplazamos con un vector al azar\n",
    "pr = pr/pr.sum() # Normalizamos para que sume 1\n",
    "Nprincipales = 5 # Cantidad de principales\n",
    "principales = np.argsort(pr)[-Nprincipales:] # Identificamos a los N principales\n",
    "labels = {n: str(n) if i in principales else \"\" for i, n in enumerate(G.nodes)} # Nombres para esos nodos\n",
    "nx.draw_networkx(G,G_layout,node_size = pr*factor_escala, ax=ax,with_labels=False) # Graficamos red\n",
    "nx.draw_networkx_labels(G, G_layout, labels=labels, font_size=6, font_color=\"k\") # Agregamos los nombres"
   ]
  }
 ],
 "metadata": {
  "kernelspec": {
   "display_name": "envtp1",
   "language": "python",
   "name": "envtp1"
  },
  "language_info": {
   "codemirror_mode": {
    "name": "ipython",
    "version": 3
   },
   "file_extension": ".py",
   "mimetype": "text/x-python",
   "name": "python",
   "nbconvert_exporter": "python",
   "pygments_lexer": "ipython3",
   "version": "3.12.3"
  }
 },
 "nbformat": 4,
 "nbformat_minor": 4
}
