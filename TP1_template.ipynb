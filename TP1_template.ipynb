{
 "cells": [
  {
   "cell_type": "code",
   "execution_count": null,
   "metadata": {},
   "outputs": [],
   "source": [
    "%load_ext autoreload\n",
    "%autoreload 2"
   ]
  },
  {
   "cell_type": "code",
   "execution_count": null,
   "metadata": {},
   "outputs": [],
   "source": [
    "# Carga de paquetes necesarios para graficar\n",
    "import numpy as np\n",
    "import matplotlib.pyplot as plt\n",
    "import pandas as pd # Para leer archivos\n",
    "import geopandas as gpd # Para hacer cosas geográficas\n",
    "import seaborn as sns # Para hacer plots lindos\n",
    "import networkx as nx # Construcción de la red en NetworkX\n",
    "import scipy\n",
    "from template_funciones import *"
   ]
  },
  {
   "cell_type": "markdown",
   "metadata": {},
   "source": [
    "# Preambulo\n",
    "\n",
    "En esta sección cargamos los datos y los visualizamos. También construimos la matriz de adyacencia de la red de museos."
   ]
  },
  {
   "cell_type": "markdown",
   "metadata": {},
   "source": [
    "## Carga de datos de los museos\n",
    "\n",
    "El listado de los museos, con el que se construye el [mapa](https://mapas.museosabiertos.org/museos/caba/), lo podemos encontrar [acá](https://github.com/MuseosAbiertos/Leaflet-museums-OpenStreetMap/blob/principal/data/export.geojson?short_path=bc357f3). También descargamos los barrios de CABA como complemento para los gráficos."
   ]
  },
  {
   "cell_type": "code",
   "execution_count": null,
   "metadata": {},
   "outputs": [],
   "source": [
    "# Leemos el archivo, retenemos aquellos museos que están en CABA, y descartamos aquellos que no tienen latitud y longitud\n",
    "museos = gpd.read_file('https://raw.githubusercontent.com/MuseosAbiertos/Leaflet-museums-OpenStreetMap/refs/heads/principal/data/export.geojson')\n",
    "barrios = gpd.read_file('https://cdn.buenosaires.gob.ar/datosabiertos/datasets/ministerio-de-educacion/barrios/barrios.geojson')"
   ]
  },
  {
   "cell_type": "markdown",
   "metadata": {},
   "source": [
    "## Visualización"
   ]
  },
  {
   "cell_type": "code",
   "execution_count": null,
   "metadata": {},
   "outputs": [],
   "source": [
    "# Armamos el gráfico para visualizar los museos\n",
    "fig, ax = plt.subplots(figsize=(10, 10))\n",
    "barrios.boundary.plot(color='gray',ax=ax)\n",
    "museos.plot(ax=ax)"
   ]
  },
  {
   "cell_type": "markdown",
   "metadata": {},
   "source": [
    "## Cálculo de la matriz de distancias\n",
    "\n",
    "Ahora construimos la matriz de distancias entre todos los museos. Como la tierra es un [geoide](https://es.wikipedia.org/wiki/Geoide) (es decir que no es [plana](https://es.wikipedia.org/wiki/Terraplanismo)), el cálculo de distancias no es una operación obvia. Una opción es proyectar a un [sistema de coordenadas local](https://geopandas.org/en/stable/docs/user_guide/projections.html), de forma tal que las distancias euclideas se correspondan con las distancias en metros. En este notebook usamos [EPSG](https://en.wikipedia.org/wiki/EPSG_Geodetic_Parameter_Dataset) 22184. "
   ]
  },
  {
   "cell_type": "code",
   "execution_count": null,
   "metadata": {},
   "outputs": [],
   "source": [
    "# En esta línea:\n",
    "# Tomamos museos, lo convertimos al sistema de coordenadas de interés, extraemos su geometría (los puntos del mapa), \n",
    "# calculamos sus distancias a los otros puntos de df, redondeamos (obteniendo distancia en metros), y lo convertimos a un array 2D de numpy\n",
    "D = museos.to_crs(\"EPSG:22184\").geometry.apply(lambda g: museos.to_crs(\"EPSG:22184\").distance(g)).round().to_numpy()"
   ]
  },
  {
   "cell_type": "markdown",
   "metadata": {},
   "source": [
    "### Matriz de adyacencia: construimos una matriz conectando a cada museo con los $m$ más cercanos"
   ]
  },
  {
   "cell_type": "code",
   "execution_count": null,
   "metadata": {},
   "outputs": [],
   "source": [
    "m = 3 # Cantidad de links por nodo\n",
    "A = construye_adyacencia(D,m)"
   ]
  },
  {
   "cell_type": "markdown",
   "metadata": {},
   "source": [
    "## Construcción de la red en NetworkX (sólo para las visualizaciones)"
   ]
  },
  {
   "cell_type": "code",
   "execution_count": null,
   "metadata": {},
   "outputs": [],
   "source": [
    "G = nx.from_numpy_array(A) # Construimos la red a partir de la matriz de adyacencia\n",
    "# Construimos un layout a partir de las coordenadas geográficas\n",
    "G_layout = {i:v for i,v in enumerate(zip(museos.to_crs(\"EPSG:22184\").get_coordinates()['x'],museos.to_crs(\"EPSG:22184\").get_coordinates()['y']))}"
   ]
  },
  {
   "cell_type": "code",
   "execution_count": null,
   "metadata": {},
   "outputs": [],
   "source": [
    "fig, ax = plt.subplots(figsize=(15, 15)) # Visualización de la red en el mapa\n",
    "barrios.to_crs(\"EPSG:22184\").boundary.plot(color='gray',ax=ax) # Graficamos Los barrios\n",
    "nx.draw_networkx(G,G_layout,ax=ax) # Graficamos los museos"
   ]
  },
  {
   "cell_type": "markdown",
   "metadata": {},
   "source": [
    "# Resolución del TP\n",
    "\n",
    "Aquí empieza la aventura... ¡diviertanse y consulten lo que necesiten!"
   ]
  },
  {
   "cell_type": "markdown",
   "metadata": {},
   "source": [
    "## Punto 1:"
   ]
  },
  {
   "cell_type": "markdown",
   "metadata": {},
   "source": [
    "Partiendo de la definicion de p\n",
    "$$\n",
    "p = (1-\\alpha)Cp + \\frac{\\alpha}{N}\\textbf{1} \\\\\n",
    "p - (1-\\alpha)Cp = \\frac{\\alpha}{N}\\textbf{1} \\\\\n",
    "(I + (1-\\alpha)C)p = \\frac{\\alpha}{N}\\textbf{1}\\\\\n",
    "\\frac{N}{\\alpha}(I + (1-\\alpha)C)p = \\textbf{1}\\\\\n",
    "Mp = \\textbf{1} = b\\\\\n",
    "$$\n",
    "Se llega al sistema. Por lo tanto p es solucion del sistema por su definicion."
   ]
  },
  {
   "cell_type": "markdown",
   "metadata": {},
   "source": [
    "## Punto 2:\n"
   ]
  },
  {
   "cell_type": "markdown",
   "metadata": {},
   "source": [
    "Para que la ecuación del punto anterior tenga una única solucion, la matriz M debe ser invertible. Para que M sea invertible su determinante debe ser distinto de 0. $ det(M) \\neq 0 $\n",
    "\n",
    "Usamos la  propiedad del determinante: $det(kA)=k^n det(A)$ donde $k$ es un escalar y $n$ es la dimensión de la matriz.\n",
    "\n",
    "Por lo tanto:\n",
    "\n",
    "$det(M) = det(\\frac{N}{\\alpha}(I-(1-\\alpha)C))=(\\frac{N}{\\alpha})^N det(I-(1-\\alpha)C)$\n",
    "\n",
    "$\\frac{N}{\\alpha}$ es un escalar positivo, ya que $N > 0$ y $0 < \\alpha < 1$, $det(M) \\neq 0$ si y solo si $det(I - (1-\\alpha)C)\\neq 0$.\n",
    "\n",
    "Probar que el determinante no es nulo es equivalente a probar si la matriz es inversible, así que ahora vamos a probar si la matriz $I - (1-\\alpha)C$ es inversible. Sabemos que $C$ es una matriz estocástica por columnas, por lo que $||C||_1 = 1$ y ya que $0 < \\alpha <1$ entonces $0 < (1 - \\alpha) < 1$. Llamo $\\beta$ a $1-\\alpha$. Con esto podemos decir que $0 < ||\\beta C||_1 < 1$ ya que $||\\beta C||_1 = |\\beta|·||C||_1$ y $|\\beta| = \\beta$ porque $\\beta > 0$.\n",
    "  \n",
    "Ahora vamos a probar que la matriz $I - \\beta C$ es inversible debido a que $||\\beta C||_1 < 1$.\n",
    "\n",
    "Si no fuera inversible, existiría un vector no nulo x tal que: \n",
    "\n",
    "$(I - \\beta C)x = 0 \\implies x - (\\beta C)x = 0 \\implies x = (\\beta C)x \\implies ||x||_1 = ||(\\beta C)x||_1$\n",
    "\n",
    "Por la propiedad submultiplicativa de las normas matriciales:\n",
    "\n",
    "$||(\\beta C)x||_1 \\leq ||x||_1 · ||(\\beta C)||_1$\n",
    "\n",
    "y ya que $||x||_1 = ||(\\beta C)x||_1$ entonces:\n",
    "\n",
    "$||x||_1 \\leq ||x||_1 · ||(\\beta C)||_1 \\implies 1 \\leq ||(\\beta C)||_1$\n",
    "\n",
    "Lo cual es un absurdo ya que partimos de la hipótesis de que $||(\\beta C)||_1 < 1$.\n",
    "\n",
    "Por lo que $(I - \\beta C)$ debe ser inversible lo que implica que $det(I - (1-\\alpha)C)\\neq 0$."
   ]
  },
  {
   "cell_type": "code",
   "execution_count": null,
   "metadata": {},
   "outputs": [],
   "source": []
  },
  {
   "cell_type": "code",
   "execution_count": null,
   "metadata": {},
   "outputs": [],
   "source": []
  },
  {
   "cell_type": "markdown",
   "metadata": {},
   "source": [
    "## Punto 3:\n",
    "\n",
    "Para calcular los rankings, primero queremos hacer una función para calcular la matriz de grados $K$."
   ]
  },
  {
   "cell_type": "markdown",
   "metadata": {},
   "source": [
    "La función construir_matriz_grado toma como parametro de entrada la matriz de adyacencias $A$ que construimos a partir de leer los datos de los museos y calculando sus distancias y retorna la matriz de grados $K$ donde\n",
    "$$K_{ij} = \\begin{cases} \n",
    "\\sum^{N}_{h=1} A_{ih}, \\qquad i=j \\\\\n",
    "0, \\qquad \\qquad \\quad i\\neq j\n",
    "\n",
    "\n",
    "\\end{cases}$$"
   ]
  },
  {
   "cell_type": "markdown",
   "metadata": {},
   "source": [
    "Calculamos la inversa $K^{-1}$ resolviendo el sistema triangular $(K|I)$."
   ]
  },
  {
   "cell_type": "markdown",
   "metadata": {},
   "source": [
    "La función inversa_de_triangular toma como entrada una matriz triangular $M$ y resuelve el sistema $(M|I)$."
   ]
  },
  {
   "cell_type": "markdown",
   "metadata": {},
   "source": [
    "Ahora creamos la matriz de transiciones $C = A^T K^{-1}$."
   ]
  },
  {
   "cell_type": "markdown",
   "metadata": {},
   "source": [
    "La función crear_matriz_transiciones toma dos matrices $A, K^{-1}$ y retorna el producto entre la transpuesta de $A$ y $K^{-1}$."
   ]
  },
  {
   "cell_type": "markdown",
   "metadata": {},
   "source": [
    "Finalmente la solución al sistema $M\\textbf{p}=\\textbf{b}$ con $\\textbf{b} = \\textbf{1}$ será la matriz de puntajes."
   ]
  },
  {
   "cell_type": "markdown",
   "metadata": {},
   "source": [
    "La función toma una matriz de transiciones $C$, construye la matriz $M=\\frac{N}{\\alpha}(I-(1-\\alpha)C)$ y retorna la solución al sistema $M\\textbf{p}=\\textbf{b}$ con $\\textbf{b} = \\textbf{1}$ utilizando descomposición LU."
   ]
  },
  {
   "cell_type": "markdown",
   "metadata": {},
   "source": [
    "Encapsulamos todo en una única función que calcula el puntaje para cada museo."
   ]
  },
  {
   "cell_type": "markdown",
   "metadata": {},
   "source": [
    "### 3.a "
   ]
  },
  {
   "cell_type": "markdown",
   "metadata": {},
   "source": [
    "Construimos la red conectando a cada museo con sus $m = 3$ vecino más cercanos y procedemos a graficar la red asignando un tamaño proporcional a cada nodo según su Page Rank, para ello utilizamos la función calcular_puntajes definida anteriormente. "
   ]
  },
  {
   "cell_type": "code",
   "execution_count": null,
   "metadata": {},
   "outputs": [],
   "source": [
    "\n",
    "Nprincipales = 5 # Cantidad de principales\n",
    "m = 3 # Cantidad de vecinos mas cercanos\n",
    "d = 1/5 # factor de dumping\n",
    "pr = calcular_p(D, m, d)\n",
    "\n",
    "# identificar museos mas centrales\n",
    "principales = np.argsort(pr)[-3:]\n",
    "print(principales)"
   ]
  },
  {
   "cell_type": "code",
   "execution_count": null,
   "metadata": {},
   "outputs": [],
   "source": [
    "graficar_red_p(pr, A, m, d, museos, barrios, Nprincipales=3)"
   ]
  },
  {
   "cell_type": "markdown",
   "metadata": {},
   "source": []
  },
  {
   "cell_type": "markdown",
   "metadata": {},
   "source": [
    "### 3.b) m = 1, 3, 5, 10 y usando α = 1/5\n",
    "TODO: RESPONDER\n",
    "\n",
    "¿Son estables las posiciones en el ranking? Describa los distintos patrones que observa,\n",
    "identificando que ubicaciones son relevantes encada caso. \n",
    "¿Hay museos que solo son relevantes en redes con pocas conexiones?\n",
    "¿O museos que se vuelven mas relevantes mientras mas conexiones aparecen?\n",
    "\n",
    "¿Que regiones se vuelven mas predominantes al aumentar α? ¿Y al aumentar m?"
   ]
  },
  {
   "cell_type": "code",
   "execution_count": null,
   "metadata": {},
   "outputs": [],
   "source": [
    "ms = [1, 3, 5, 10] \n",
    "d = 1/5\n",
    "ps = [] # Lista de scores page rank para cada m y d\n",
    "for m in ms:\n",
    "    pr = calcular_p(D, m, d)\n",
    "    ps.append(pr)"
   ]
  },
  {
   "cell_type": "code",
   "execution_count": null,
   "metadata": {},
   "outputs": [],
   "source": [
    "museos.columns\n",
    "print(museos.loc[0,'name'])"
   ]
  },
  {
   "cell_type": "code",
   "execution_count": null,
   "metadata": {},
   "outputs": [],
   "source": [
    "# TODO: Agregar los axis, labels de cada museo. Hacer lo mismo para el C.\n",
    "tres_principales_cada_m = []\n",
    "for i, p in enumerate(ps):\n",
    "    principales = np.argsort(p)[-3:]\n",
    "    tres_principales_cada_m.append(principales)\n",
    "\n",
    "\n",
    "tres_principales_cada_m = np.array(list(set(np.hstack(tres_principales_cada_m))))\n",
    "for X in tres_principales_cada_m:\n",
    "    print(museos.loc[X, 'name'])\n",
    "print(tres_principales_cada_m)\n",
    "\n",
    "for i, p in enumerate(ps):\n",
    "    ps[i] = ps[i][tres_principales_cada_m]\n",
    "plt.plot(ms, ps)"
   ]
  },
  {
   "cell_type": "code",
   "execution_count": null,
   "metadata": {},
   "outputs": [],
   "source": [
    "# Mapas para cada par m, d\n",
    "for i, p in enumerate(ps):\n",
    "    graficar_red_p(p, A, ms[i], d, museos, barrios, Nprincipales=3)\n",
    "    "
   ]
  },
  {
   "cell_type": "markdown",
   "metadata": {},
   "source": [
    "### 3.c) m = 5 y α = 6/7, 4/5, 2/3, 1/2, 1/3, 1/5, 1/7"
   ]
  },
  {
   "cell_type": "code",
   "execution_count": null,
   "metadata": {},
   "outputs": [],
   "source": [
    "m = 5\n",
    "ds = [6/7, 4/5, 2/3, 1/2, 1/3, 1/5, 1/7]\n",
    "ps = []\n",
    "for d in ds:\n",
    "    pr = calcular_p(D, m, d)\n",
    "    principales = np.argsort(pr)[-10:]\n",
    "    ps.append(pr[principales])\n",
    "    # pr = calcular_p(D, m, d)\n",
    "    # # identificar museos mas centrales\n",
    "    # principales = np.argsort(pr)[-3:]\n",
    "    # print(principales)\n",
    "    # graficar_red_p(pr, A, m, d, museos, barrios, Nprincipales=3)\n",
    "\n",
    "plt.plot(ds, ps)"
   ]
  },
  {
   "cell_type": "markdown",
   "metadata": {},
   "source": [
    "## Punto 4:"
   ]
  },
  {
   "cell_type": "markdown",
   "metadata": {},
   "source": []
  },
  {
   "cell_type": "markdown",
   "metadata": {},
   "source": [
    "## Punto 5:"
   ]
  },
  {
   "cell_type": "markdown",
   "metadata": {},
   "source": [
    "Nos piden calcular la cantidad total de visitantes que entraron en la red, es decir $||v||_1$ utilizando la ecuación del punto 4.\n",
    "$$\\textbf{v} = B^{-1} \\textbf{w}$$"
   ]
  },
  {
   "cell_type": "markdown",
   "metadata": {},
   "source": [
    "Para esto, creamos la función calcula_matriz_C_continua que recibe la matriz de distancias $D$ y calcula $C$ donde\n",
    "$$C_{ij}= \\frac{f(d_{ij})}{\\sum^{N}_{k=1,k\\neq i}f(d_{ik})}$$"
   ]
  },
  {
   "cell_type": "markdown",
   "metadata": {},
   "source": [
    "y la función calcula_B que toma la matriz $C$ y el número de pasos $r$ y retorna la matriz $B$ donde $$B = \\sum^{r-1}_{k=0} C^k$$"
   ]
  },
  {
   "cell_type": "markdown",
   "metadata": {},
   "source": [
    "Armamos una función calcular_norma_v que recibe como parametros el vector $\\textbf{w}$ y la matriz de adyacencias $A$ para encontrar $\\textbf{v}$ y retornar su norma."
   ]
  },
  {
   "cell_type": "code",
   "execution_count": null,
   "metadata": {},
   "outputs": [],
   "source": [
    "# construimos el vector w con los datos de visitas.txt\n",
    "w = np.loadtxt(\"visitas.txt\", dtype=int)\n",
    "# cantidad de visitas\n",
    "r = 3\n",
    "\n",
    "def calcular_norma_v(A, w):\n",
    "    C = calcula_matriz_C_continua(A)\n",
    "    B = calcula_B(C, r)\n",
    "    L, U = calculaLU(B) # Calculamos descomposición LU a partir de B\n",
    "\n",
    "    Uv = scipy.linalg.solve_triangular(L,b,lower=True)\n"
   ]
  },
  {
   "cell_type": "markdown",
   "metadata": {},
   "source": [
    "## Punto 6:"
   ]
  },
  {
   "cell_type": "markdown",
   "metadata": {},
   "source": [
    "# Extras\n",
    "\n",
    "Para graficar la red con un conjunto de puntajes (como el Page Rank)"
   ]
  },
  {
   "cell_type": "code",
   "execution_count": null,
   "metadata": {},
   "outputs": [],
   "source": [
    "factor_escala = 1e4 # Escalamos los nodos 10 mil veces para que sean bien visibles\n",
    "fig, ax = plt.subplots(figsize=(10, 10)) # Visualización de la red en el mapa\n",
    "barrios.to_crs(\"EPSG:22184\").boundary.plot(color='gray',ax=ax) # Graficamos Los barrios\n",
    "pr = np.random.uniform(0,1,museos.shape[0])# Este va a ser su score Page Rank. Ahora lo reemplazamos con un vector al azar\n",
    "pr = pr/pr.sum() # Normalizamos para que sume 1\n",
    "Nprincipales = 5 # Cantidad de principales\n",
    "principales = np.argsort(pr)[-Nprincipales:] # Identificamos a los N principales\n",
    "labels = {n: str(n) if i in principales else \"\" for i, n in enumerate(G.nodes)} # Nombres para esos nodos\n",
    "nx.draw_networkx(G,G_layout,node_size = pr*factor_escala, ax=ax,with_labels=False) # Graficamos red\n",
    "nx.draw_networkx_labels(G, G_layout, labels=labels, font_size=6, font_color=\"k\") # Agregamos los nombres"
   ]
  },
  {
   "cell_type": "code",
   "execution_count": null,
   "metadata": {},
   "outputs": [],
   "source": []
  }
 ],
 "metadata": {
  "kernelspec": {
   "display_name": "envtp1",
   "language": "python",
   "name": "envtp1"
  },
  "language_info": {
   "codemirror_mode": {
    "name": "ipython",
    "version": 3
   },
   "file_extension": ".py",
   "mimetype": "text/x-python",
   "name": "python",
   "nbconvert_exporter": "python",
   "pygments_lexer": "ipython3",
   "version": "3.12.3"
  }
 },
 "nbformat": 4,
 "nbformat_minor": 4
}
