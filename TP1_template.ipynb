{
 "cells": [
  {
   "cell_type": "code",
   "execution_count": null,
   "metadata": {},
   "outputs": [],
   "source": [
    "# Carga de paquetes necesarios para graficar\n",
    "import numpy as np\n",
    "import matplotlib.pyplot as plt\n",
    "import pandas as pd # Para leer archivos\n",
    "import geopandas as gpd # Para hacer cosas geográficas\n",
    "import seaborn as sns # Para hacer plots lindos\n",
    "import networkx as nx # Construcción de la red en NetworkX\n",
    "import scipy\n"
   ]
  },
  {
   "cell_type": "markdown",
   "metadata": {},
   "source": [
    "# Preambulo\n",
    "\n",
    "En esta sección cargamos los datos y los visualizamos. También construimos la matriz de adyacencia de la red de museos."
   ]
  },
  {
   "cell_type": "markdown",
   "metadata": {},
   "source": [
    "## Carga de datos de los museos\n",
    "\n",
    "El listado de los museos, con el que se construye el [mapa](https://mapas.museosabiertos.org/museos/caba/), lo podemos encontrar [acá](https://github.com/MuseosAbiertos/Leaflet-museums-OpenStreetMap/blob/principal/data/export.geojson?short_path=bc357f3). También descargamos los barrios de CABA como complemento para los gráficos."
   ]
  },
  {
   "cell_type": "code",
   "execution_count": null,
   "metadata": {},
   "outputs": [],
   "source": [
    "# Leemos el archivo, retenemos aquellos museos que están en CABA, y descartamos aquellos que no tienen latitud y longitud\n",
    "museos = gpd.read_file('https://raw.githubusercontent.com/MuseosAbiertos/Leaflet-museums-OpenStreetMap/refs/heads/principal/data/export.geojson')\n",
    "barrios = gpd.read_file('https://cdn.buenosaires.gob.ar/datosabiertos/datasets/ministerio-de-educacion/barrios/barrios.geojson')"
   ]
  },
  {
   "cell_type": "markdown",
   "metadata": {},
   "source": [
    "## Visualización"
   ]
  },
  {
   "cell_type": "code",
   "execution_count": null,
   "metadata": {},
   "outputs": [],
   "source": [
    "# Armamos el gráfico para visualizar los museos\n",
    "fig, ax = plt.subplots(figsize=(10, 10))\n",
    "barrios.boundary.plot(color='gray',ax=ax)\n",
    "museos.plot(ax=ax)"
   ]
  },
  {
   "cell_type": "markdown",
   "metadata": {},
   "source": [
    "## Cálculo de la matriz de distancias\n",
    "\n",
    "Ahora construimos la matriz de distancias entre todos los museos. Como la tierra es un [geoide](https://es.wikipedia.org/wiki/Geoide) (es decir que no es [plana](https://es.wikipedia.org/wiki/Terraplanismo)), el cálculo de distancias no es una operación obvia. Una opción es proyectar a un [sistema de coordenadas local](https://geopandas.org/en/stable/docs/user_guide/projections.html), de forma tal que las distancias euclideas se correspondan con las distancias en metros. En este notebook usamos [EPSG](https://en.wikipedia.org/wiki/EPSG_Geodetic_Parameter_Dataset) 22184. "
   ]
  },
  {
   "cell_type": "code",
   "execution_count": null,
   "metadata": {},
   "outputs": [],
   "source": [
    "# En esta línea:\n",
    "# Tomamos museos, lo convertimos al sistema de coordenadas de interés, extraemos su geometría (los puntos del mapa), \n",
    "# calculamos sus distancias a los otros puntos de df, redondeamos (obteniendo distancia en metros), y lo convertimos a un array 2D de numpy\n",
    "D = museos.to_crs(\"EPSG:22184\").geometry.apply(lambda g: museos.to_crs(\"EPSG:22184\").distance(g)).round().to_numpy()"
   ]
  },
  {
   "cell_type": "markdown",
   "metadata": {},
   "source": [
    "### Matriz de adyacencia: construimos una matriz conectando a cada museo con los $m$ más cercanos"
   ]
  },
  {
   "cell_type": "code",
   "execution_count": null,
   "metadata": {},
   "outputs": [],
   "source": [
    "def construye_adyacencia(D,m): \n",
    "    # Función que construye la matriz de adyacencia del grafo de museos\n",
    "    # D matriz de distancias, m cantidad de links por nodo\n",
    "    # Retorna la matriz de adyacencia como un numpy.\n",
    "    D = D.copy()\n",
    "    l = [] # Lista para guardar las filas\n",
    "    for fila in D: # recorriendo las filas, anexamos vectores lógicos\n",
    "        l.append(fila<=fila[np.argsort(fila)[m]] ) # En realidad, elegimos todos los nodos que estén a una distancia menor o igual a la del m-esimo más cercano\n",
    "    A = np.asarray(l).astype(int) # Convertimos a entero\n",
    "    np.fill_diagonal(A,0) # Borramos diagonal para eliminar autolinks\n",
    "    return(A)\n",
    "\n",
    "m = 3 # Cantidad de links por nodo\n",
    "A = construye_adyacencia(D,m)"
   ]
  },
  {
   "cell_type": "markdown",
   "metadata": {},
   "source": [
    "## Construcción de la red en NetworkX (sólo para las visualizaciones)"
   ]
  },
  {
   "cell_type": "code",
   "execution_count": null,
   "metadata": {},
   "outputs": [],
   "source": [
    "G = nx.from_numpy_array(A) # Construimos la red a partir de la matriz de adyacencia\n",
    "# Construimos un layout a partir de las coordenadas geográficas\n",
    "G_layout = {i:v for i,v in enumerate(zip(museos.to_crs(\"EPSG:22184\").get_coordinates()['x'],museos.to_crs(\"EPSG:22184\").get_coordinates()['y']))}"
   ]
  },
  {
   "cell_type": "code",
   "execution_count": null,
   "metadata": {},
   "outputs": [],
   "source": [
    "fig, ax = plt.subplots(figsize=(15, 15)) # Visualización de la red en el mapa\n",
    "barrios.to_crs(\"EPSG:22184\").boundary.plot(color='gray',ax=ax) # Graficamos Los barrios\n",
    "nx.draw_networkx(G,G_layout,ax=ax) # Graficamos los museos"
   ]
  },
  {
   "cell_type": "markdown",
   "metadata": {},
   "source": [
    "# Resolución del TP\n",
    "\n",
    "Aquí empieza la aventura... ¡diviertanse y consulten lo que necesiten!"
   ]
  },
  {
   "cell_type": "markdown",
   "metadata": {},
   "source": [
    "## Punto 1:"
   ]
  },
  {
   "cell_type": "markdown",
   "metadata": {},
   "source": [
    "Partiendo de la definicion de p\n",
    "$$\n",
    "p = (1-\\alpha)Cp + \\frac{\\alpha}{N}\\textbf{1} \\\\\n",
    "p - (1-\\alpha)Cp = \\frac{\\alpha}{N}\\textbf{1} \\\\\n",
    "(I + (1-\\alpha)C)p = \\frac{\\alpha}{N}\\textbf{1}\\\\\n",
    "\\frac{N}{\\alpha}(I + (1-\\alpha)C)p = \\textbf{1}\\\\\n",
    "Mp = \\textbf{1} = b\\\\\n",
    "$$\n",
    "Se llega al sistema. Por lo tanto p es solucion del sistema por su definicion."
   ]
  },
  {
   "cell_type": "markdown",
   "metadata": {},
   "source": [
    "## Punto 2:\n"
   ]
  },
  {
   "cell_type": "markdown",
   "metadata": {},
   "source": [
    "Para que la ecuación del punto anterior tenga una única solucion, la matriz M debe ser invertible. Para que M sea invertible su determinante debe ser distinto de 0. $ det(M) \\neq 0 $\n",
    "\n",
    "Usamos la  propiedad del determinante: $det(kA)=k^n$ donde $k$ es un escalar y $n$ es la dimensión de la matriz.\n",
    "\n",
    "Por lo tanto:\n",
    "\n",
    "$det(M) = det(\\frac{N}{\\alpha}(I-(1-\\alpha)C))=(\\frac{N}{\\alpha})^N det(I-(1-\\alpha)C)$\n",
    "\n",
    "$\\frac{N}{\\alpha}$ es un escalar positivo, ya que $N > 0$ y $0 < \\alpha < 1$, $det(M) \\neq 0$ si y solo si $det(I - (1-\\alpha)C)\\neq 0$.\n",
    "\n"
   ]
  },
  {
   "cell_type": "markdown",
   "metadata": {},
   "source": [
    "## Punto 3:\n",
    "\n",
    "Para calcular los rankings, primero queremos hacer una función para calcular la matriz de grados $K$."
   ]
  },
  {
   "cell_type": "markdown",
   "metadata": {},
   "source": [
    "La función construir_matriz_grado toma como parametro de entrada la matriz de adyacencias $A$ que construimos a partir de leer los datos de los museos y calculando sus distancias y retorna la matriz de grados $K$ donde\n",
    "$$K_{ij} = \\begin{cases} \n",
    "\\sum^{N}_{h=1} A_{ih}, \\qquad i=j \\\\\n",
    "0, \\qquad \\qquad \\quad i\\neq j\n",
    "\n",
    "\n",
    "\\end{cases}$$"
   ]
  },
  {
   "cell_type": "code",
   "execution_count": null,
   "metadata": {},
   "outputs": [],
   "source": [
    "def construir_matriz_grado(M):\n",
    "    # para cada fila sumo todas sus columnas y lo guardo en la matriz de grado\n",
    "    K = np.zeros(M.shape) # Inicializo la matriz de grado\n",
    "    for i in range(M.shape[0]):\n",
    "        K[i,i] = np.sum(M[i,:])\n",
    "    return K"
   ]
  },
  {
   "cell_type": "markdown",
   "metadata": {},
   "source": [
    "Calculamos la inversa $K^{-1}$ resolviendo el sistema triangular $(K|I)$."
   ]
  },
  {
   "cell_type": "markdown",
   "metadata": {},
   "source": [
    "La función inversa_de_triangular toma como entrada una matriz triangular $M$ y resuelve el sistema $(M|I)$."
   ]
  },
  {
   "cell_type": "code",
   "execution_count": null,
   "metadata": {},
   "outputs": [],
   "source": [
    "def inversa_de_triangular(M):\n",
    "    # inicialzo matriz identidad\n",
    "    I = np.eye(M.shape[0])\n",
    "    return scipy.linalg.solve_triangular(M,I)\n",
    "\n",
    "K_inv = inversa_de_triangular(K)\n",
    "print(K_inv)"
   ]
  },
  {
   "cell_type": "markdown",
   "metadata": {},
   "source": [
    "Ahora creamos la matriz de transiciones $C = A^T K^{-1}$."
   ]
  },
  {
   "cell_type": "markdown",
   "metadata": {},
   "source": [
    "La función crear_matriz_transiciones toma dos matrices $A, K^{-1}$ y retorna el producto entre la transpuesta de $A$ y $K^{-1}$."
   ]
  },
  {
   "cell_type": "code",
   "execution_count": null,
   "metadata": {},
   "outputs": [],
   "source": [
    "def crear_matriz_transiciones(M, Kinv):\n",
    "    C = np.transpose(M) @ Kinv\n",
    "    return C\n",
    "\n",
    "C = crear_matriz_transiciones(A, K_inv)\n",
    "print(C)"
   ]
  },
  {
   "cell_type": "markdown",
   "metadata": {},
   "source": [
    "Finalmente la solución al sistema $M\\textbf{p}=\\textbf{b}$ con $\\textbf{b} = \\textbf{1}$ será la matriz de puntajes."
   ]
  },
  {
   "cell_type": "markdown",
   "metadata": {},
   "source": [
    "La función toma una matriz de transiciones $C$, construye la matriz $M=\\frac{N}{\\alpha}(I-(1-\\alpha)C)$ y retorna la solución al sistema $M\\textbf{p}=\\textbf{b}$ con $\\textbf{b} = \\textbf{1}$ utilizando descomposición LU."
   ]
  },
  {
   "cell_type": "code",
   "execution_count": null,
   "metadata": {},
   "outputs": [],
   "source": [
    "def page_ranks(C, alpha):\n",
    "    N = C.shape[0] # tamaño de la matriz\n",
    "    b = np.ones(N) # vector de unos\n",
    "    I = np.eye(N) # matriz identidad\n",
    "\n",
    "    # calculo de la matriz M\n",
    "    M = (1-alpha) * C\n",
    "    M = I - M\n",
    "    M = (N/alpha) * M\n",
    "    return scipy.linalg.solve(M, b) # esto hay que hacerl con la descomposicion LU TODO"
   ]
  },
  {
   "cell_type": "markdown",
   "metadata": {},
   "source": [
    "Encapsulamos todo en una única función que calcula el puntaje para cada museo."
   ]
  },
  {
   "cell_type": "code",
   "execution_count": null,
   "metadata": {},
   "outputs": [],
   "source": [
    "def calcular_puntajes(M, alpha):\n",
    "    K = construir_matriz_grado(M)\n",
    "    K_inv = inversa_de_triangular(K)\n",
    "    C = crear_matriz_transiciones(M, K_inv)\n",
    "    PR = page_ranks(C, alpha)\n",
    "    return PR"
   ]
  },
  {
   "cell_type": "markdown",
   "metadata": {},
   "source": [
    "### 3.a"
   ]
  },
  {
   "cell_type": "markdown",
   "metadata": {},
   "source": [
    "Construimos la red conectando a cada museo con sus $m = 3$ vecino más cercanos y procedemos a graficar la red asignando un tamaño proporcional a cada nodo según su Page Rank, para ello utilizamos la función calcular_puntajes definida anteriormente. "
   ]
  },
  {
   "cell_type": "code",
   "execution_count": null,
   "metadata": {},
   "outputs": [],
   "source": [
    "m = 3 # Cantidad de links por nodo\n",
    "A = construye_adyacencia(D,m)\n",
    "\n",
    "factor_escala = 1e4 # Escalamos los nodos 10 mil veces para que sean bien visibles\n",
    "fig, ax = plt.subplots(figsize=(15, 15)) # Visualización de la red en el mapa\n",
    "barrios.to_crs(\"EPSG:22184\").boundary.plot(color='gray',ax=ax) # Graficamos Los barrios\n",
    "pr = calcular_puntajes(A, 1/5)# Este va a ser su score Page Rank\n",
    "pr = pr/pr.sum() # Normalizamos para que sume 1\n",
    "Nprincipales = 5 # Cantidad de principales\n",
    "principales = np.argsort(pr)[-Nprincipales:] # Identificamos a los N principales\n",
    "labels = {n: str(n) if i in principales else \"\" for i, n in enumerate(G.nodes)} # Nombres para esos nodos\n",
    "nx.draw_networkx(G,G_layout,node_size = pr*factor_escala, ax=ax,with_labels=False) # Graficamos red\n",
    "nx.draw_networkx_labels(G, G_layout, labels=labels, font_size=6, font_color=\"k\") # Agregamos los nombres\n",
    "\n",
    "#titulo\n",
    "plt.title('Museos de Buenos Aires', fontsize=20)\n",
    "\n",
    "plt.show()"
   ]
  },
  {
   "cell_type": "markdown",
   "metadata": {},
   "source": [
    "### 3.b"
   ]
  },
  {
   "cell_type": "markdown",
   "metadata": {},
   "source": [
    "## Punto 4:"
   ]
  },
  {
   "cell_type": "markdown",
   "metadata": {},
   "source": [
    "## Punto 5:"
   ]
  },
  {
   "cell_type": "markdown",
   "metadata": {},
   "source": [
    "## Punto 6:"
   ]
  },
  {
   "cell_type": "markdown",
   "metadata": {},
   "source": [
    "# Extras\n",
    "\n",
    "Para graficar la red con un conjunto de puntajes (como el Page Rank)"
   ]
  },
  {
   "cell_type": "code",
   "execution_count": null,
   "metadata": {},
   "outputs": [],
   "source": [
    "factor_escala = 1e4 # Escalamos los nodos 10 mil veces para que sean bien visibles\n",
    "fig, ax = plt.subplots(figsize=(10, 10)) # Visualización de la red en el mapa\n",
    "barrios.to_crs(\"EPSG:22184\").boundary.plot(color='gray',ax=ax) # Graficamos Los barrios\n",
    "pr = np.random.uniform(0,1,museos.shape[0])# Este va a ser su score Page Rank. Ahora lo reemplazamos con un vector al azar\n",
    "pr = pr/pr.sum() # Normalizamos para que sume 1\n",
    "Nprincipales = 5 # Cantidad de principales\n",
    "principales = np.argsort(pr)[-Nprincipales:] # Identificamos a los N principales\n",
    "labels = {n: str(n) if i in principales else \"\" for i, n in enumerate(G.nodes)} # Nombres para esos nodos\n",
    "nx.draw_networkx(G,G_layout,node_size = pr*factor_escala, ax=ax,with_labels=False) # Graficamos red\n",
    "nx.draw_networkx_labels(G, G_layout, labels=labels, font_size=6, font_color=\"k\") # Agregamos los nombres"
   ]
  },
  {
   "cell_type": "code",
   "execution_count": null,
   "metadata": {},
   "outputs": [],
   "source": []
  }
 ],
 "metadata": {
  "kernelspec": {
   "display_name": "envtp1",
   "language": "python",
   "name": "python3"
  },
  "language_info": {
   "codemirror_mode": {
    "name": "ipython",
    "version": 3
   },
   "file_extension": ".py",
   "mimetype": "text/x-python",
   "name": "python",
   "nbconvert_exporter": "python",
   "pygments_lexer": "ipython3",
   "version": "3.12.9"
  }
 },
 "nbformat": 4,
 "nbformat_minor": 4
}
